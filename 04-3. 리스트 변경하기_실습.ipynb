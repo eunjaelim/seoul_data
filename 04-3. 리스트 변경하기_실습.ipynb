{
 "cells": [
  {
   "cell_type": "markdown",
   "id": "644979c7",
   "metadata": {},
   "source": [
    "# 리스트에 항목 추가하기"
   ]
  },
  {
   "cell_type": "markdown",
   "id": "a57b2ddc",
   "metadata": {},
   "source": [
    "## 리스트 끝에 항목 추가하기\n",
    "* 리스트명.append(항목)"
   ]
  },
  {
   "cell_type": "code",
   "execution_count": 31,
   "id": "97484a41",
   "metadata": {},
   "outputs": [],
   "source": [
    "todolist = ['양치','물마시기']"
   ]
  },
  {
   "cell_type": "code",
   "execution_count": 32,
   "id": "7e97bb19",
   "metadata": {},
   "outputs": [],
   "source": [
    "# '아침운동' 항목 추가하기\n",
    "todolist.append('아침운동')"
   ]
  },
  {
   "cell_type": "code",
   "execution_count": 33,
   "id": "27cf7d07",
   "metadata": {},
   "outputs": [
    {
     "name": "stdout",
     "output_type": "stream",
     "text": [
      "['양치', '물마시기', '아침운동']\n"
     ]
    }
   ],
   "source": [
    "print(todolist)"
   ]
  },
  {
   "cell_type": "markdown",
   "id": "87db8c45",
   "metadata": {},
   "source": [
    "## 리스트 중간에 항목 삽입하기"
   ]
  },
  {
   "cell_type": "markdown",
   "id": "907f0320",
   "metadata": {},
   "source": [
    "* 리스트명.insert(인덱스, 항목)"
   ]
  },
  {
   "cell_type": "code",
   "execution_count": 34,
   "id": "54a6b90b",
   "metadata": {
    "scrolled": true
   },
   "outputs": [],
   "source": [
    "# '아침운동'하기 전에 '아침식사'"
   ]
  },
  {
   "cell_type": "code",
   "execution_count": 35,
   "id": "302811a5",
   "metadata": {},
   "outputs": [],
   "source": [
    "todolist.insert(2,'아침식사')\n"
   ]
  },
  {
   "cell_type": "code",
   "execution_count": 36,
   "id": "cf503bfa",
   "metadata": {},
   "outputs": [
    {
     "data": {
      "text/plain": [
       "['양치', '물마시기', '아침식사', '아침운동']"
      ]
     },
     "execution_count": 36,
     "metadata": {},
     "output_type": "execute_result"
    }
   ],
   "source": [
    "todolist"
   ]
  },
  {
   "cell_type": "markdown",
   "id": "358b2cee",
   "metadata": {},
   "source": [
    "## 리스트 끝에 여러 항목 추가하기\n",
    "* 리스트명.extend(리스트)"
   ]
  },
  {
   "cell_type": "code",
   "execution_count": 37,
   "id": "8f9f66e1",
   "metadata": {},
   "outputs": [],
   "source": [
    "# '아침운동' 후에 ['샤워','드라이','공부']"
   ]
  },
  {
   "cell_type": "code",
   "execution_count": 38,
   "id": "fd436034",
   "metadata": {},
   "outputs": [],
   "source": [
    "todolist.extend(['샤워','드라이','공부'])"
   ]
  },
  {
   "cell_type": "code",
   "execution_count": 39,
   "id": "637dfed5",
   "metadata": {},
   "outputs": [
    {
     "data": {
      "text/plain": [
       "['양치', '물마시기', '아침식사', '아침운동', '샤워', '드라이', '공부']"
      ]
     },
     "execution_count": 39,
     "metadata": {},
     "output_type": "execute_result"
    }
   ],
   "source": [
    "todolist"
   ]
  },
  {
   "cell_type": "markdown",
   "id": "23e8ff57",
   "metadata": {},
   "source": [
    "# 리스트 항목 수정하기"
   ]
  },
  {
   "cell_type": "markdown",
   "id": "e548425e",
   "metadata": {},
   "source": [
    "## 하나의 항목 수정하기\n",
    "* 리스트명[인덱스] = 항목"
   ]
  },
  {
   "cell_type": "code",
   "execution_count": 40,
   "id": "ed34ea6f",
   "metadata": {},
   "outputs": [],
   "source": [
    "# 아침운동-->산책으로 수정\n",
    "todolist[3] = '산책'"
   ]
  },
  {
   "cell_type": "code",
   "execution_count": 41,
   "id": "0e5954c4",
   "metadata": {},
   "outputs": [
    {
     "data": {
      "text/plain": [
       "['양치', '물마시기', '아침식사', '산책', '샤워', '드라이', '공부']"
      ]
     },
     "execution_count": 41,
     "metadata": {},
     "output_type": "execute_result"
    }
   ],
   "source": [
    "todolist"
   ]
  },
  {
   "cell_type": "markdown",
   "id": "5d67be37",
   "metadata": {},
   "source": [
    "## 여러 항목 수정하기\n",
    "* 리스트명[시작인덱스:끝인덱스] = 리스트"
   ]
  },
  {
   "cell_type": "code",
   "execution_count": 42,
   "id": "8757e871",
   "metadata": {},
   "outputs": [],
   "source": [
    "# '아침식사','산책' --> '독서','산책','아침식사'"
   ]
  },
  {
   "cell_type": "code",
   "execution_count": 43,
   "id": "1146f829",
   "metadata": {},
   "outputs": [],
   "source": [
    "todolist[2:4]=['독서','산책','아침식사']"
   ]
  },
  {
   "cell_type": "code",
   "execution_count": 44,
   "id": "4ffda153",
   "metadata": {},
   "outputs": [
    {
     "data": {
      "text/plain": [
       "['양치', '물마시기', '독서', '산책', '아침식사', '샤워', '드라이', '공부']"
      ]
     },
     "execution_count": 44,
     "metadata": {},
     "output_type": "execute_result"
    }
   ],
   "source": [
    "todolist"
   ]
  },
  {
   "cell_type": "markdown",
   "id": "ec1beb1d",
   "metadata": {},
   "source": [
    "# 리스트 항목 삭제하기"
   ]
  },
  {
   "cell_type": "markdown",
   "id": "07029021",
   "metadata": {},
   "source": [
    "## 인덱스를 이용하여 항목 삭제\n",
    "* del 리스트명[인덱스]"
   ]
  },
  {
   "cell_type": "code",
   "execution_count": null,
   "id": "b72ade6e",
   "metadata": {},
   "outputs": [],
   "source": [
    "# 마지막 인덱스 삭제"
   ]
  },
  {
   "cell_type": "code",
   "execution_count": 45,
   "id": "4803a623",
   "metadata": {},
   "outputs": [],
   "source": [
    "del todolist[-1]"
   ]
  },
  {
   "cell_type": "code",
   "execution_count": 46,
   "id": "d3050fd9",
   "metadata": {},
   "outputs": [
    {
     "data": {
      "text/plain": [
       "['양치', '물마시기', '독서', '산책', '아침식사', '샤워', '드라이']"
      ]
     },
     "execution_count": 46,
     "metadata": {},
     "output_type": "execute_result"
    }
   ],
   "source": [
    "todolist"
   ]
  },
  {
   "cell_type": "markdown",
   "id": "c44a53f5",
   "metadata": {},
   "source": [
    "## 항목값을 이용하여 삭제\n",
    "* 리스트.remove(항목)     \n",
    "항목이 여러개인 경우 앞의 인덱스만 삭제"
   ]
  },
  {
   "cell_type": "code",
   "execution_count": 47,
   "id": "17b87417",
   "metadata": {},
   "outputs": [],
   "source": [
    "# '양치' 삭제\n",
    "todolist.remove('양치')"
   ]
  },
  {
   "cell_type": "code",
   "execution_count": 48,
   "id": "c424cfe0",
   "metadata": {},
   "outputs": [
    {
     "data": {
      "text/plain": [
       "['물마시기', '독서', '산책', '아침식사', '샤워', '드라이']"
      ]
     },
     "execution_count": 48,
     "metadata": {},
     "output_type": "execute_result"
    }
   ],
   "source": [
    "todolist"
   ]
  },
  {
   "cell_type": "markdown",
   "id": "65c78ded",
   "metadata": {},
   "source": [
    "## 마지막 항목을 반환하고 삭제\n",
    "* 리스트.pop()"
   ]
  },
  {
   "cell_type": "code",
   "execution_count": 49,
   "id": "93abab6c",
   "metadata": {},
   "outputs": [],
   "source": [
    "a = todolist.pop()"
   ]
  },
  {
   "cell_type": "code",
   "execution_count": 50,
   "id": "86ae1c97",
   "metadata": {},
   "outputs": [
    {
     "data": {
      "text/plain": [
       "'드라이'"
      ]
     },
     "execution_count": 50,
     "metadata": {},
     "output_type": "execute_result"
    }
   ],
   "source": [
    "a"
   ]
  },
  {
   "cell_type": "code",
   "execution_count": 51,
   "id": "eafe0a22",
   "metadata": {},
   "outputs": [
    {
     "data": {
      "text/plain": [
       "['물마시기', '독서', '산책', '아침식사', '샤워']"
      ]
     },
     "execution_count": 51,
     "metadata": {},
     "output_type": "execute_result"
    }
   ],
   "source": [
    "todolist"
   ]
  },
  {
   "cell_type": "code",
   "execution_count": null,
   "id": "705dc8a4",
   "metadata": {},
   "outputs": [],
   "source": []
  },
  {
   "cell_type": "markdown",
   "id": "11ef7b92",
   "metadata": {},
   "source": [
    "# 연습문제"
   ]
  },
  {
   "cell_type": "markdown",
   "id": "35fe3c97",
   "metadata": {},
   "source": [
    "* 아래 wishlist의 '시계','신발'을 myCart로 이동해봅시다."
   ]
  },
  {
   "cell_type": "code",
   "execution_count": 62,
   "id": "80c17df8",
   "metadata": {},
   "outputs": [],
   "source": [
    "wishlist = ['가방','시계','신발']\n",
    "mycart = []\n",
    "\n",
    "# wishlist의 시계, 신발을 추출해서 mycart에 담는다.\n",
    "\n",
    "# wishlist의 시계, 신발을 삭제한다."
   ]
  },
  {
   "cell_type": "code",
   "execution_count": 63,
   "id": "202d1350",
   "metadata": {
    "scrolled": true
   },
   "outputs": [],
   "source": [
    "mycart.extend(wishlist[1:3])\n",
    "del wishlist[1:3]"
   ]
  },
  {
   "cell_type": "code",
   "execution_count": 64,
   "id": "67eca7df",
   "metadata": {
    "scrolled": true
   },
   "outputs": [
    {
     "data": {
      "text/plain": [
       "['시계', '신발']"
      ]
     },
     "execution_count": 64,
     "metadata": {},
     "output_type": "execute_result"
    }
   ],
   "source": [
    "mycart"
   ]
  },
  {
   "cell_type": "code",
   "execution_count": 65,
   "id": "ec937b5f",
   "metadata": {},
   "outputs": [
    {
     "data": {
      "text/plain": [
       "['가방']"
      ]
     },
     "execution_count": 65,
     "metadata": {},
     "output_type": "execute_result"
    }
   ],
   "source": [
    "wishlist"
   ]
  },
  {
   "cell_type": "code",
   "execution_count": null,
   "id": "7348233f",
   "metadata": {},
   "outputs": [],
   "source": []
  }
 ],
 "metadata": {
  "kernelspec": {
   "display_name": "Python 3 (ipykernel)",
   "language": "python",
   "name": "python3"
  },
  "language_info": {
   "codemirror_mode": {
    "name": "ipython",
    "version": 3
   },
   "file_extension": ".py",
   "mimetype": "text/x-python",
   "name": "python",
   "nbconvert_exporter": "python",
   "pygments_lexer": "ipython3",
   "version": "3.9.12"
  },
  "toc": {
   "base_numbering": 1,
   "nav_menu": {},
   "number_sections": true,
   "sideBar": true,
   "skip_h1_title": false,
   "title_cell": "Table of Contents",
   "title_sidebar": "Contents",
   "toc_cell": false,
   "toc_position": {},
   "toc_section_display": true,
   "toc_window_display": true
  }
 },
 "nbformat": 4,
 "nbformat_minor": 5
}
