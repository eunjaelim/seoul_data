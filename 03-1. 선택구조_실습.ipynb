{
 "cells": [
  {
   "cell_type": "markdown",
   "id": "49b066b6",
   "metadata": {},
   "source": [
    "# if구조"
   ]
  },
  {
   "cell_type": "markdown",
   "id": "82005ed3",
   "metadata": {},
   "source": [
    "* 점수를 입력받아, 점수가 60점 이상이면 '합격'을 출력합니다."
   ]
  },
  {
   "cell_type": "code",
   "execution_count": 4,
   "id": "953abbe1",
   "metadata": {},
   "outputs": [
    {
     "name": "stdout",
     "output_type": "stream",
     "text": [
      "점수를 입력하세요:55\n",
      "수고하셨습니다.\n"
     ]
    }
   ],
   "source": [
    "jumsu = int(input(\"점수를 입력하세요:\"))\n",
    "if jumsu >=60 :\n",
    "    print(\"합격\")\n",
    "    print('축하합니다.')\n",
    "print('수고하셨습니다.')"
   ]
  },
  {
   "cell_type": "markdown",
   "id": "89867f9f",
   "metadata": {},
   "source": [
    "# if..else..구조"
   ]
  },
  {
   "cell_type": "markdown",
   "id": "72e2e273",
   "metadata": {},
   "source": [
    "* 점수를 입력받아, 점수가 60점 이상이면 '합격'을 출력하고, 아니면 '불합격'을 출력합니다."
   ]
  },
  {
   "cell_type": "code",
   "execution_count": 21,
   "id": "dbdd11b4",
   "metadata": {
    "scrolled": false
   },
   "outputs": [
    {
     "name": "stdout",
     "output_type": "stream",
     "text": [
      "점수:45\n",
      "불합격\n"
     ]
    }
   ],
   "source": [
    "jumsu=int(input('점수:'))\n",
    "if jumsu >= 60:\n",
    "    print(\"합격\")\n",
    "else:\n",
    "    print(\"불합격\")\n",
    "\n",
    "    "
   ]
  },
  {
   "cell_type": "markdown",
   "id": "50dfa035",
   "metadata": {},
   "source": [
    "# if..elif..구조"
   ]
  },
  {
   "cell_type": "markdown",
   "id": "7dfb40b6",
   "metadata": {},
   "source": [
    "* 점수를 입력받고 점수의 범위에 따라 등급을 출력하는 프로그램을 작성하세요.    \n",
    "\n",
    "|등급|A|B|C|D|F|\n",
    "|----|--|--|--|--|--|\n",
    "|점수|90이상|80~89|70~79|60~69|0~59|"
   ]
  },
  {
   "cell_type": "code",
   "execution_count": 2,
   "id": "459f46ca",
   "metadata": {},
   "outputs": [
    {
     "name": "stdout",
     "output_type": "stream",
     "text": [
      "점수:80\n",
      "grade: B\n"
     ]
    }
   ],
   "source": [
    "jumsu= int(input(\"점수:\"))\n",
    "if jumsu >= 90 :\n",
    "    grade = 'A'\n",
    "elif jumsu >=80 & jumsu <=89:\n",
    "    grade = \"B\"\n",
    "elif jumsu >=70 &jumsu <= 79:\n",
    "    grade = 'C'\n",
    "elif jumsu >=60 & jumsu <= 69:\n",
    "    grade = \"D\"\n",
    "else:\n",
    "    grade = \"F\"\n",
    "print(\"grade:\",grade)    "
   ]
  },
  {
   "cell_type": "code",
   "execution_count": null,
   "id": "e4fc565a",
   "metadata": {},
   "outputs": [],
   "source": []
  },
  {
   "cell_type": "markdown",
   "id": "e2003f20",
   "metadata": {},
   "source": [
    "# 연습문제"
   ]
  },
  {
   "cell_type": "markdown",
   "id": "5ff0dcc9",
   "metadata": {},
   "source": [
    "* 정수를 입력받아 짝수/홀수를 판별하세요."
   ]
  },
  {
   "cell_type": "code",
   "execution_count": 20,
   "id": "9bac5e4d",
   "metadata": {},
   "outputs": [
    {
     "name": "stdout",
     "output_type": "stream",
     "text": [
      "정수:-23\n",
      "홀수\n"
     ]
    }
   ],
   "source": [
    "num = int(input(\"정수:\"))\n",
    "if num == 0:\n",
    "    print(0)\n",
    "elif num%2 == 0 :\n",
    "    print(\"짝수\")\n",
    "elif num%2 ==1:\n",
    "    print(\"홀수\")\n",
    "else : \n",
    "    print(\"다시 입력하세요.\")"
   ]
  },
  {
   "cell_type": "code",
   "execution_count": null,
   "id": "8dcd03e3",
   "metadata": {},
   "outputs": [],
   "source": []
  }
 ],
 "metadata": {
  "kernelspec": {
   "display_name": "Python 3 (ipykernel)",
   "language": "python",
   "name": "python3"
  },
  "language_info": {
   "codemirror_mode": {
    "name": "ipython",
    "version": 3
   },
   "file_extension": ".py",
   "mimetype": "text/x-python",
   "name": "python",
   "nbconvert_exporter": "python",
   "pygments_lexer": "ipython3",
   "version": "3.9.12"
  },
  "toc": {
   "base_numbering": 1,
   "nav_menu": {},
   "number_sections": true,
   "sideBar": true,
   "skip_h1_title": false,
   "title_cell": "Table of Contents",
   "title_sidebar": "Contents",
   "toc_cell": false,
   "toc_position": {},
   "toc_section_display": true,
   "toc_window_display": true
  }
 },
 "nbformat": 4,
 "nbformat_minor": 5
}
